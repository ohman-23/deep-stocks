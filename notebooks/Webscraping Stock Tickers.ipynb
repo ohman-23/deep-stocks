{
 "cells": [
  {
   "cell_type": "code",
   "execution_count": 52,
   "id": "9aeee0bc",
   "metadata": {},
   "outputs": [],
   "source": [
    "import requests\n",
    "from bs4 import BeautifulSoup\n",
    "import json\n",
    "import pickle"
   ]
  },
  {
   "cell_type": "markdown",
   "id": "fd2c775c",
   "metadata": {},
   "source": [
    "### Get a List of Stocks from the S&P-500"
   ]
  },
  {
   "cell_type": "code",
   "execution_count": 20,
   "id": "a97eae4d",
   "metadata": {},
   "outputs": [],
   "source": [
    "URL = \"https://en.wikipedia.org/wiki/List_of_S%26P_500_companies\"\n",
    "PARSER = 'html.parser'\n",
    "soup = BeautifulSoup(requests.get(URL).text, PARSER)"
   ]
  },
  {
   "cell_type": "code",
   "execution_count": 50,
   "id": "e4b15344",
   "metadata": {},
   "outputs": [],
   "source": [
    "sp_500_tickers = []\n",
    "table_body = soup.find_all(\"tbody\")[0]\n",
    "table_rows = table_body.find_all(\"tr\")\n",
    "# removethe first row as it just contains header information\n",
    "for row in table_rows[1:]:\n",
    "     sp_500_tickers.append(row.find_all(\"a\")[0].text)"
   ]
  },
  {
   "cell_type": "code",
   "execution_count": 53,
   "id": "43a04754",
   "metadata": {},
   "outputs": [],
   "source": [
    "with open(\"sp_500_stock_list.json\", \"wb\") as json_file:\n",
    "    json.dump(sp_500_tickers, json_file)"
   ]
  },
  {
   "attachments": {},
   "cell_type": "markdown",
   "id": "daec01cf",
   "metadata": {},
   "source": [
    "#### Other Webscraping Required Tasks:"
   ]
  },
  {
   "cell_type": "markdown",
   "id": "d0efd55a",
   "metadata": {},
   "source": []
  }
 ],
 "metadata": {
  "kernelspec": {
   "display_name": "Python 3 (ipykernel)",
   "language": "python",
   "name": "python3"
  },
  "language_info": {
   "codemirror_mode": {
    "name": "ipython",
    "version": 3
   },
   "file_extension": ".py",
   "mimetype": "text/x-python",
   "name": "python",
   "nbconvert_exporter": "python",
   "pygments_lexer": "ipython3",
   "version": "3.9.5"
  }
 },
 "nbformat": 4,
 "nbformat_minor": 5
}
